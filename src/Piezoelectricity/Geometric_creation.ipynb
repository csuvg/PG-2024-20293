{
 "cells": [
  {
   "cell_type": "code",
   "execution_count": null,
   "metadata": {
    "colab": {
     "base_uri": "https://localhost:8080/"
    },
    "executionInfo": {
     "elapsed": 7902,
     "status": "ok",
     "timestamp": 1729373662022,
     "user": {
      "displayName": "Daniel Gonzalez",
      "userId": "03871375242627177945"
     },
     "user_tz": 360
    },
    "id": "XU9CPtx8zlo_",
    "outputId": "58c7e243-7bb6-4ed0-8006-c3a7c769b43c"
   },
   "outputs": [
    {
     "name": "stdout",
     "output_type": "stream",
     "text": [
      "Requirement already satisfied: pyDOE in /usr/local/lib/python3.10/dist-packages (0.3.8)\n",
      "Requirement already satisfied: numpy in /usr/local/lib/python3.10/dist-packages (from pyDOE) (1.26.4)\n",
      "Requirement already satisfied: scipy in /usr/local/lib/python3.10/dist-packages (from pyDOE) (1.13.1)\n"
     ]
    }
   ],
   "source": [
    "!pip install pyDOE"
   ]
  },
  {
   "cell_type": "code",
   "execution_count": null,
   "metadata": {
    "id": "7UhNDh6CuVzn"
   },
   "outputs": [],
   "source": [
    "import numpy as np\n",
    "from pyDOE import lhs\n",
    "import matplotlib.pyplot as plt\n",
    "import pandas as pd"
   ]
  },
  {
   "cell_type": "code",
   "execution_count": null,
   "metadata": {
    "colab": {
     "base_uri": "https://localhost:8080/"
    },
    "executionInfo": {
     "elapsed": 1447,
     "status": "ok",
     "timestamp": 1729373663467,
     "user": {
      "displayName": "Daniel Gonzalez",
      "userId": "03871375242627177945"
     },
     "user_tz": 360
    },
    "id": "OVh5oF17usIk",
    "outputId": "20f00b3c-56da-4122-8aa1-9989f33501a9"
   },
   "outputs": [
    {
     "name": "stdout",
     "output_type": "stream",
     "text": [
      "Drive already mounted at /content/drive; to attempt to forcibly remount, call drive.mount(\"/content/drive\", force_remount=True).\n"
     ]
    }
   ],
   "source": [
    "from google.colab import drive\n",
    "drive.mount('/content/drive')"
   ]
  },
  {
   "cell_type": "markdown",
   "metadata": {},
   "source": [
    "### Cálculo de coeficientes de material PVDF\n",
    "A continuación se presenta el cálculo de los coeficientes de PVDF. Esto se hace en base a https://es.mathworks.com/help/pde/ug/deflection-of-a-piezoelectric-actuator.html"
   ]
  },
  {
   "cell_type": "code",
   "execution_count": null,
   "metadata": {
    "id": "dUWvAlHVX2D3"
   },
   "outputs": [],
   "source": [
    "scale = 1# 1000 ** 2"
   ]
  },
  {
   "cell_type": "code",
   "execution_count": null,
   "metadata": {
    "id": "AepFCkxguVzo"
   },
   "outputs": [],
   "source": [
    "E = 2.0e9 / scale  # Elastic modulus, N/m^2\n",
    "NU = 0.29  # Poisson's ratio\n",
    "G = 0.775e9 / scale  # Shear modulus, N/m^2\n",
    "d31 = 2.2e-11  # Piezoelectric strain coefficients, C/N\n",
    "d33 = -3.0e-11\n",
    "\n",
    "rel_permittivity = 12\n",
    "\n",
    "permittivity_free_space = 8.854187817620e-12 / 1  # F/m\n",
    "C11 = E / (1 - NU**2)\n",
    "C12 = NU * C11"
   ]
  },
  {
   "cell_type": "code",
   "execution_count": null,
   "metadata": {
    "id": "p1vOIFlFuVzo"
   },
   "outputs": [],
   "source": [
    "WIDTH = 100e-3\n",
    "HEIGHT = 1e-3\n",
    "H2 = HEIGHT/2\n",
    "CENTER = 0"
   ]
  },
  {
   "cell_type": "code",
   "execution_count": null,
   "metadata": {
    "id": "whxE183MmxBW"
   },
   "outputs": [],
   "source": [
    "Y_TOP = HEIGHT\n",
    "Y_BOTTOM = 0"
   ]
  },
  {
   "cell_type": "code",
   "execution_count": null,
   "metadata": {
    "colab": {
     "base_uri": "https://localhost:8080/"
    },
    "executionInfo": {
     "elapsed": 8,
     "status": "ok",
     "timestamp": 1729373677397,
     "user": {
      "displayName": "Daniel Gonzalez",
      "userId": "03871375242627177945"
     },
     "user_tz": 360
    },
    "id": "G6svNZOGuVzo",
    "outputId": "79b813bc-afc8-408c-aa1f-fa77d3f43bb7"
   },
   "outputs": [
    {
     "data": {
      "text/plain": [
       "(2183644502.6749644, 633256905.7757397)"
      ]
     },
     "execution_count": 123,
     "metadata": {},
     "output_type": "execute_result"
    }
   ],
   "source": [
    "C11, C12"
   ]
  },
  {
   "cell_type": "code",
   "execution_count": null,
   "metadata": {
    "id": "5Fn4tyxsuVzp"
   },
   "outputs": [],
   "source": [
    "c2d = np.array([[C11, C12, 0], [C12, C11, 0], [0, 0, G]])\n",
    "pze_D = np.array([[0, d31], [0, d33], [0, 0]])"
   ]
  },
  {
   "cell_type": "code",
   "execution_count": null,
   "metadata": {
    "id": "SKx3MJSTuVzp"
   },
   "outputs": [],
   "source": [
    "pze_E = c2d @ pze_D\n",
    "D_const_stress = np.array([[rel_permittivity, 0],\n",
    "                           [0, rel_permittivity]]) * permittivity_free_space"
   ]
  },
  {
   "cell_type": "code",
   "execution_count": null,
   "metadata": {
    "id": "bfMfwmIhuVzp"
   },
   "outputs": [],
   "source": [
    "D_const_strain = D_const_stress - pze_D.T @ pze_E"
   ]
  },
  {
   "cell_type": "code",
   "execution_count": null,
   "metadata": {
    "id": "1Ah564eAuVzp"
   },
   "outputs": [],
   "source": [
    "cond_scaling = 1"
   ]
  },
  {
   "cell_type": "code",
   "execution_count": null,
   "metadata": {
    "id": "eAl6n_AwuVzp"
   },
   "outputs": [],
   "source": [
    "c11 = np.array([c2d[0, 0], c2d[0, 2], c2d[2, 0], c2d[2, 2]])\n",
    "c12 = np.array([[c2d[0, 2], c2d[0, 1]], [c2d[2, 2], c2d[1, 2]]])\n",
    "c21 = c12.T\n",
    "\n",
    "c22 = np.array([c2d[2, 2], c2d[1, 2], c2d[2, 1], c2d[1, 1]])\n",
    "c13 = np.array([[pze_E[0, 0], pze_E[0, 1]], [pze_E[2, 0], pze_E[2, 1]]])\n",
    "c31 = cond_scaling * c13.T\n",
    "c23 = np.array([[pze_E[2, 0], pze_E[2, 1]], [pze_E[1, 0], pze_E[1, 1]]])\n",
    "c32 = cond_scaling * c23.T\n",
    "\n",
    "c33 = cond_scaling * np.array([D_const_strain[0, 0],\n",
    "                               D_const_strain[1, 0],\n",
    "                               D_const_strain[0, 1],\n",
    "                               D_const_strain[1, 1]])\n",
    "\n",
    "ctop = np.concatenate([c11, c21.flatten(), -c31.flatten(),\n",
    "                       c12.flatten(), c22, -c32.flatten(),\n",
    "                       -c13.flatten(), -c23.flatten(), -c33])\n",
    "\n",
    "cbot = np.concatenate([c11, c21.flatten(), c31.flatten(),\n",
    "                       c12.flatten(), c22, c32.flatten(),\n",
    "                       c13.flatten(), c23.flatten(), -c33])"
   ]
  },
  {
   "cell_type": "code",
   "execution_count": null,
   "metadata": {
    "colab": {
     "base_uri": "https://localhost:8080/"
    },
    "executionInfo": {
     "elapsed": 6,
     "status": "ok",
     "timestamp": 1729373677397,
     "user": {
      "displayName": "Daniel Gonzalez",
      "userId": "03871375242627177945"
     },
     "user_tz": 360
    },
    "id": "RUN7hyB7uVzp",
    "outputId": "2aeabc18-7058-42d3-9286-0967f83ae8e9"
   },
   "outputs": [
    {
     "name": "stdout",
     "output_type": "stream",
     "text": [
      "[ 2.18364450e+09  0.00000000e+00  0.00000000e+00  7.75000000e+08\n",
      "  0.00000000e+00  7.75000000e+08  6.33256906e+08  0.00000000e+00\n",
      " -0.00000000e+00 -0.00000000e+00 -2.90424719e-02 -0.00000000e+00\n",
      "  0.00000000e+00  6.33256906e+08  7.75000000e+08  0.00000000e+00\n",
      "  7.75000000e+08  0.00000000e+00  0.00000000e+00  2.18364450e+09\n",
      " -0.00000000e+00 -0.00000000e+00 -0.00000000e+00  5.15776832e-02\n",
      " -0.00000000e+00 -2.90424719e-02 -0.00000000e+00 -0.00000000e+00\n",
      " -0.00000000e+00 -0.00000000e+00 -0.00000000e+00  5.15776832e-02\n",
      " -1.06250254e-10 -0.00000000e+00 -0.00000000e+00 -1.04063989e-10]\n",
      "[ 2.18364450e+09  0.00000000e+00  0.00000000e+00  7.75000000e+08\n",
      "  0.00000000e+00  7.75000000e+08  6.33256906e+08  0.00000000e+00\n",
      "  0.00000000e+00  0.00000000e+00  2.90424719e-02  0.00000000e+00\n",
      "  0.00000000e+00  6.33256906e+08  7.75000000e+08  0.00000000e+00\n",
      "  7.75000000e+08  0.00000000e+00  0.00000000e+00  2.18364450e+09\n",
      "  0.00000000e+00  0.00000000e+00  0.00000000e+00 -5.15776832e-02\n",
      "  0.00000000e+00  2.90424719e-02  0.00000000e+00  0.00000000e+00\n",
      "  0.00000000e+00  0.00000000e+00  0.00000000e+00 -5.15776832e-02\n",
      " -1.06250254e-10 -0.00000000e+00 -0.00000000e+00 -1.04063989e-10]\n"
     ]
    }
   ],
   "source": [
    "print(ctop)\n",
    "print(cbot)"
   ]
  },
  {
   "cell_type": "code",
   "execution_count": null,
   "metadata": {
    "colab": {
     "base_uri": "https://localhost:8080/"
    },
    "executionInfo": {
     "elapsed": 4,
     "status": "ok",
     "timestamp": 1729373677397,
     "user": {
      "displayName": "Daniel Gonzalez",
      "userId": "03871375242627177945"
     },
     "user_tz": 360
    },
    "id": "0QgfG0hhjOUR",
    "outputId": "24a4b720-d58b-4ccc-de48-cb3ebdd4624b"
   },
   "outputs": [
    {
     "data": {
      "text/plain": [
       "(2183644502.6749644, 633256905.7757397, 2183644502.6749644, 775000000.0)"
      ]
     },
     "execution_count": 130,
     "metadata": {},
     "output_type": "execute_result"
    }
   ],
   "source": [
    "# C11 = C11 * 1e-9\n",
    "# C12 = C12 * 1e-9\n",
    "# C22 = C22 * 1e-9\n",
    "# G = G * 1e-9\n",
    "C22 = C11\n",
    "C11, C12, C22, G"
   ]
  },
  {
   "cell_type": "code",
   "execution_count": null,
   "metadata": {
    "colab": {
     "base_uri": "https://localhost:8080/"
    },
    "executionInfo": {
     "elapsed": 3,
     "status": "ok",
     "timestamp": 1729373677397,
     "user": {
      "displayName": "Daniel Gonzalez",
      "userId": "03871375242627177945"
     },
     "user_tz": 360
    },
    "id": "wdkzvKjiuVzq",
    "outputId": "22b5678e-c3c7-468f-8201-1848aaef1c3a"
   },
   "outputs": [
    {
     "data": {
      "text/plain": [
       "(-1.0625025381143999e-10, -1.0406398893536182e-10)"
      ]
     },
     "execution_count": 131,
     "metadata": {},
     "output_type": "execute_result"
    }
   ],
   "source": [
    "epsilon_1 = -c33[0]\n",
    "epsilon_2 = -c33[-1]\n",
    "epsilon_1, epsilon_2"
   ]
  },
  {
   "cell_type": "code",
   "execution_count": null,
   "metadata": {
    "id": "UuimAhxduVzq"
   },
   "outputs": [],
   "source": [
    "e11_top = -c31[0,0]\n",
    "e14_top = -c31[0,1]\n",
    "e13_top = -c31[0,1]\n",
    "e31_top = -c31[1,0]\n",
    "e34_top = -c31[1,1]"
   ]
  },
  {
   "cell_type": "code",
   "execution_count": null,
   "metadata": {
    "id": "8WkVW3jQuVzq"
   },
   "outputs": [],
   "source": [
    "e11_bottom = c31[0,0]\n",
    "e14_bottom = c31[0,1]\n",
    "e13_bottom = c31[0,1]\n",
    "e31_bottom = c31[1,0]\n",
    "e34_bottom = c31[1,1]"
   ]
  },
  {
   "cell_type": "code",
   "execution_count": null,
   "metadata": {
    "id": "NJRtSs6duVzq"
   },
   "outputs": [],
   "source": [
    "e33_top = -c32[-1, -1]\n",
    "e33_bottom = c32[-1, -1]"
   ]
  },
  {
   "cell_type": "code",
   "execution_count": null,
   "metadata": {
    "colab": {
     "base_uri": "https://localhost:8080/"
    },
    "executionInfo": {
     "elapsed": 8,
     "status": "ok",
     "timestamp": 1729373677721,
     "user": {
      "displayName": "Daniel Gonzalez",
      "userId": "03871375242627177945"
     },
     "user_tz": 360
    },
    "id": "OrzU2f1RuVzq",
    "outputId": "8e9fecfd-fa62-44c5-dfa3-4f94ea0d44a3"
   },
   "outputs": [
    {
     "data": {
      "text/plain": [
       "(-0.0, -0.02904247188557703, -0.0, 0.05157768315318266, -0.0, -0.0)"
      ]
     },
     "execution_count": 135,
     "metadata": {},
     "output_type": "execute_result"
    }
   ],
   "source": [
    "e11_top, e31_top, e13_top, e33_top, e14_top, e34_top"
   ]
  },
  {
   "cell_type": "code",
   "execution_count": null,
   "metadata": {
    "colab": {
     "base_uri": "https://localhost:8080/"
    },
    "executionInfo": {
     "elapsed": 8,
     "status": "ok",
     "timestamp": 1729373677721,
     "user": {
      "displayName": "Daniel Gonzalez",
      "userId": "03871375242627177945"
     },
     "user_tz": 360
    },
    "id": "--oerP6HIJqY",
    "outputId": "21153a21-e800-41f9-d190-ec2cf4271ed3"
   },
   "outputs": [
    {
     "data": {
      "text/plain": [
       "(0.0, 0.02904247188557703, 0.0, -0.05157768315318266, 0.0, 0.0)"
      ]
     },
     "execution_count": 136,
     "metadata": {},
     "output_type": "execute_result"
    }
   ],
   "source": [
    "e11_bottom, e31_bottom, e13_bottom, e33_bottom, e14_bottom, e34_bottom"
   ]
  },
  {
   "cell_type": "markdown",
   "metadata": {},
   "source": [
    "### Generación de puntos de frontera"
   ]
  },
  {
   "cell_type": "code",
   "execution_count": null,
   "metadata": {
    "id": "FRaf2eJHuVzr"
   },
   "outputs": [],
   "source": [
    "# Función para obtener puntos de frontera para potencial eléctrico\n",
    "def beam_electric_BC(x, phi_value):\n",
    "    phi = np.ones((x.shape[0], 1)) * phi_value\n",
    "    return x, phi"
   ]
  },
  {
   "cell_type": "code",
   "execution_count": null,
   "metadata": {
    "id": "09hxWUoauVzr"
   },
   "outputs": [],
   "source": [
    "# Función para obtener puntos de frontera para desplazamiento\n",
    "def beam_mechanical_BC(x, u_value=0, v_value=0):\n",
    "    u_left = np.ones((x.shape[0], 1)) * u_value\n",
    "    v_left = np.ones((x.shape[0], 1)) * v_value\n",
    "    y_left = np.hstack([u_left, v_left])\n",
    "    return x, y_left"
   ]
  },
  {
   "cell_type": "code",
   "execution_count": null,
   "metadata": {
    "id": "RwOjRpAiuVzr"
   },
   "outputs": [],
   "source": [
    "# Función para obtener puntos de frontera en la parte superior de la viga\n",
    "def get_top_x_y(x, y):\n",
    "    y = np.ones_like(y[-1, :][:, None]) * Y_TOP\n",
    "    x_top = np.hstack([x[-1, :][:, None], y])\n",
    "    return x_top"
   ]
  },
  {
   "cell_type": "code",
   "execution_count": null,
   "metadata": {
    "id": "ySXjAGcAuVzr"
   },
   "outputs": [],
   "source": [
    "# Función para obtener puntos de frontera en la parte inferior de la viga\n",
    "def get_bottom_x_y(x, y):\n",
    "    y = np.ones_like(y[0, :][:, None]) * Y_BOTTOM\n",
    "    x_bottom = np.hstack([x[0, :][:, None], y])\n",
    "    return x_bottom"
   ]
  },
  {
   "cell_type": "code",
   "execution_count": null,
   "metadata": {
    "id": "-_vFAkNtuVzr"
   },
   "outputs": [],
   "source": [
    "# Función para obtener puntos de frontera en la parte izquierda de la viga\n",
    "def get_left_x_y(x, y):\n",
    "    sample = lhs(1, x.shape[0])\n",
    "    x  = np.zeros_like(x[:, 0][:, None])\n",
    "    y = sample * HEIGHT\n",
    "    x, y = np.meshgrid(x, y)\n",
    "    x_left = np.hstack([x[1:-1, 0][:, None], y[1:-1, 0][:, None]])\n",
    "    return x_left"
   ]
  },
  {
   "cell_type": "code",
   "execution_count": null,
   "metadata": {
    "id": "o0eOgKel3fCj"
   },
   "outputs": [],
   "source": [
    "# Función para obtener puntos de frontera en la parte derecha de la viga\n",
    "def get_right_x_y(x, y):\n",
    "    sample = lhs(1, x.shape[0])\n",
    "    x  = np.ones_like(x[:, 0][:, None]) * WIDTH\n",
    "    y = sample * HEIGHT\n",
    "\n",
    "    x, y = np.meshgrid(x, y)\n",
    "    x_left = np.hstack([x[:, -1][:, None], y[:, -1][:, None]])\n",
    "    return x_left"
   ]
  },
  {
   "cell_type": "code",
   "execution_count": null,
   "metadata": {
    "id": "Tj15ee6bjY2G"
   },
   "outputs": [],
   "source": [
    "# Función para obtener los coeficientes de cada punto modelado de la viga\n",
    "def get_coefficients(x, y):\n",
    "    C11_array = np.ones((x.flatten().shape[0], 1)) * C11\n",
    "    C12_array = np.ones((x.flatten().shape[0], 1)) * C12\n",
    "    C22_array = np.ones((x.flatten().shape[0], 1)) * C22\n",
    "    G_array = np.ones((x.flatten().shape[0], 1)) * G\n",
    "    epsilon1_array = np.ones((x.flatten().shape[0], 1)) * epsilon_1\n",
    "    epsilon2_array = np.ones((x.flatten().shape[0], 1)) * epsilon_2\n",
    "    e31_array = np.where(y.flatten() < CENTER, e31_bottom, e31_top).reshape(-1, 1)\n",
    "    e33_array = np.where(y.flatten() < CENTER, e33_bottom, e33_top).reshape(-1, 1)\n",
    "    return C11_array, C12_array, C22_array, G_array, epsilon1_array, epsilon2_array, e31_array, e33_array"
   ]
  },
  {
   "cell_type": "code",
   "execution_count": null,
   "metadata": {
    "id": "xMw9HnaVFmlE"
   },
   "outputs": [],
   "source": [
    "# Función para obtener los puntos de frontera para el estrés y el desplazamiento eléctrico\n",
    "def create_BCs_stress_elec(n_samples):\n",
    "    sample = lhs(2, n_samples)\n",
    "    x = sample[:, 0] * WIDTH\n",
    "    y = sample[:, 1] * HEIGHT\n",
    "    x.sort()\n",
    "    y.sort()\n",
    "    x, y = np.meshgrid(x, y)\n",
    "\n",
    "    xy_top = get_top_x_y(x, y)\n",
    "    xy_bottom = get_bottom_x_y(x, y)\n",
    "    xy_left = get_left_x_y(x, y)\n",
    "    xy_right = get_right_x_y(x, y)\n",
    "\n",
    "    return xy_top, xy_bottom, xy_left, xy_right"
   ]
  },
  {
   "cell_type": "code",
   "execution_count": null,
   "metadata": {
    "id": "6OOKFCdouVzr"
   },
   "outputs": [],
   "source": [
    "# Función para obtener las condiciones de frontera para el desplazamiento mecánico y potencial eléctrico\n",
    "# Esta función se debe usar si no se imponen las condiciones directamente en la red neuronal\n",
    "def create_BCs(n_samples):\n",
    "    sample = lhs(2, n_samples)\n",
    "    x = sample[:, 0] * WIDTH\n",
    "    y = sample[:, 1] * H2\n",
    "    x.sort()\n",
    "    y.sort()\n",
    "    x, y = np.meshgrid(x, y)\n",
    "    xy_top = get_top_x_y(x, y)\n",
    "    xy_bottom = get_bottom_x_y(x, y)\n",
    "    xy_left = get_left_x_y(x, y)\n",
    "    x_up, y_up = beam_electric_BC(xy_top, 100)\n",
    "    x_bottom, y_bottom = beam_electric_BC(xy_bottom, 0)\n",
    "    x_left, y_left = beam_mechanical_BC(xy_left)\n",
    "    x_right = get_right_x_y(x, y)\n",
    "    x_electrical_bc, y_electrical_bc = np.vstack([x_up, x_bottom]), np.vstack([y_up, y_bottom])\n",
    "    x_mechanical_bc, y_mechanical_bc = x_left, y_left\n",
    "\n",
    "    return x_electrical_bc, y_electrical_bc, x_mechanical_bc, y_mechanical_bc, x_right"
   ]
  },
  {
   "cell_type": "code",
   "execution_count": null,
   "metadata": {
    "id": "WZW2HhyFuVzs"
   },
   "outputs": [],
   "source": [
    "n_points = 150"
   ]
  },
  {
   "cell_type": "code",
   "execution_count": null,
   "metadata": {
    "id": "BCk-9DiqwMvi"
   },
   "outputs": [],
   "source": [
    "xy_top, xy_bottom, xy_left, xy_right = create_BCs_stress_elec(n_points)"
   ]
  },
  {
   "cell_type": "code",
   "execution_count": null,
   "metadata": {
    "colab": {
     "base_uri": "https://localhost:8080/"
    },
    "executionInfo": {
     "elapsed": 5,
     "status": "ok",
     "timestamp": 1729373677722,
     "user": {
      "displayName": "Daniel Gonzalez",
      "userId": "03871375242627177945"
     },
     "user_tz": 360
    },
    "id": "S-yX4rRfWXKv",
    "outputId": "f8840c9c-322c-479c-d191-3b09641cefe3"
   },
   "outputs": [
    {
     "data": {
      "text/plain": [
       "(150, 2)"
      ]
     },
     "execution_count": 151,
     "metadata": {},
     "output_type": "execute_result"
    }
   ],
   "source": [
    "xy_right.shape"
   ]
  },
  {
   "cell_type": "code",
   "execution_count": null,
   "metadata": {
    "colab": {
     "base_uri": "https://localhost:8080/",
     "height": 333
    },
    "executionInfo": {
     "elapsed": 1292,
     "status": "ok",
     "timestamp": 1729373679010,
     "user": {
      "displayName": "Daniel Gonzalez",
      "userId": "03871375242627177945"
     },
     "user_tz": 360
    },
    "id": "WYPyWZ5rwOwf",
    "outputId": "4fe9a894-9195-47b7-816c-8c1a385da47f"
   },
   "outputs": [
    {
     "data": {
      "image/png": "[encoded data removed]",
      "text/plain": [
       "<Figure size 800x300 with 1 Axes>"
      ]
     },
     "metadata": {},
     "output_type": "display_data"
    }
   ],
   "source": [
    "plt.figure(figsize=(8, 3))\n",
    "plt.scatter(xy_left[:, 0], xy_left[:, 1])\n",
    "plt.scatter(xy_right[:, 0], xy_right[:, 1])\n",
    "plt.xlabel('Coordenada x')\n",
    "plt.ylabel('Coordenada y')\n",
    "plt.title('Puntos de condiciones de frontera para viga piezoelectrica.')\n",
    "plt.show()"
   ]
  },
  {
   "cell_type": "code",
   "execution_count": null,
   "metadata": {
    "id": "YUmLnJKAuVzs"
   },
   "outputs": [],
   "source": [
    "x_electrical_bc, y_electrical_bc, x_mechanical_bc, y_mechanical_bc, x_right = create_beam_geom_BCs(n_points)"
   ]
  },
  {
   "cell_type": "code",
   "execution_count": null,
   "metadata": {
    "colab": {
     "base_uri": "https://localhost:8080/",
     "height": 368
    },
    "executionInfo": {
     "elapsed": 391,
     "status": "ok",
     "timestamp": 1729373679399,
     "user": {
      "displayName": "Daniel Gonzalez",
      "userId": "03871375242627177945"
     },
     "user_tz": 360
    },
    "id": "25kS7vsf63u8",
    "outputId": "8848c419-2611-45fa-c408-3b48e70b95ed"
   },
   "outputs": [
    {
     "name": "stderr",
     "output_type": "stream",
     "text": [
      "<ipython-input-154-7f922ea1da0d>:2: UserWarning: No data for colormapping provided via 'c'. Parameters 'cmap' will be ignored\n",
      "  plt.scatter(x_right[:, 0], x_right[:, 1], cmap='jet')\n"
     ]
    },
    {
     "data": {
      "image/png": "[encoded data removed]",
      "text/plain": [
       "<Figure size 800x300 with 1 Axes>"
      ]
     },
     "metadata": {},
     "output_type": "display_data"
    }
   ],
   "source": [
    "plt.figure(figsize=(8, 3))\n",
    "plt.scatter(x_right[:, 0], x_right[:, 1], cmap='jet')\n",
    "plt.xlabel('Coordenada x')\n",
    "plt.ylabel('Coordenada y')\n",
    "plt.title('Puntos de condiciones de frontera para viga piezoelectrica.')\n",
    "plt.show()"
   ]
  },
  {
   "cell_type": "code",
   "execution_count": null,
   "metadata": {
    "colab": {
     "base_uri": "https://localhost:8080/",
     "height": 297
    },
    "executionInfo": {
     "elapsed": 811,
     "status": "ok",
     "timestamp": 1729373680207,
     "user": {
      "displayName": "Daniel Gonzalez",
      "userId": "03871375242627177945"
     },
     "user_tz": 360
    },
    "id": "cmY1xUciuVzs",
    "outputId": "e0332b65-c064-4783-b0f6-3c2a79bdf46d"
   },
   "outputs": [
    {
     "data": {
      "image/png": "[encoded data removed]",
      "text/plain": [
       "<Figure size 800x300 with 2 Axes>"
      ]
     },
     "metadata": {},
     "output_type": "display_data"
    }
   ],
   "source": [
    "plt.figure(figsize=(8, 3))\n",
    "plt.scatter(x_electrical_bc[:, 0], x_electrical_bc[:, 1], c=y_electrical_bc[:, 0], cmap='jet')\n",
    "plt.colorbar()\n",
    "plt.show()"
   ]
  },
  {
   "cell_type": "code",
   "execution_count": null,
   "metadata": {
    "colab": {
     "base_uri": "https://localhost:8080/",
     "height": 297
    },
    "executionInfo": {
     "elapsed": 398,
     "status": "ok",
     "timestamp": 1729373680602,
     "user": {
      "displayName": "Daniel Gonzalez",
      "userId": "03871375242627177945"
     },
     "user_tz": 360
    },
    "id": "jS3chgtIuVzs",
    "outputId": "ff1160a4-d006-4a99-f6c4-30f167ccd78e"
   },
   "outputs": [
    {
     "data": {
      "image/png": "[encoded data removed]",
      "text/plain": [
       "<Figure size 800x300 with 2 Axes>"
      ]
     },
     "metadata": {},
     "output_type": "display_data"
    }
   ],
   "source": [
    "plt.figure(figsize=(8, 3))\n",
    "plt.scatter(x_mechanical_bc[:, 0], x_mechanical_bc[:, 1], c=y_mechanical_bc[:,  1], cmap='jet')\n",
    "plt.colorbar()\n",
    "plt.show()"
   ]
  },
  {
   "cell_type": "markdown",
   "metadata": {},
   "source": [
    "### Generación de puntos de colocación"
   ]
  },
  {
   "cell_type": "code",
   "execution_count": null,
   "metadata": {
    "id": "VJMUQkjNuVzt"
   },
   "outputs": [],
   "source": [
    "# Función para obtener los puntos de coloccación\n",
    "def get_collocation_points(n_points):\n",
    "    sample = lhs(2, n_points)\n",
    "    x = sample[:, 0] * WIDTH\n",
    "    y = sample[:, 1] * (Y_TOP - Y_BOTTOM) + Y_BOTTOM\n",
    "    x.sort()\n",
    "    y.sort()\n",
    "    x, y = np.meshgrid(x, y)\n",
    "    C11_array, C12_array, C22_array, G_array, epsilon1_array, epsilon2_array, e31_array, e33_array = get_coefficients(x, y)\n",
    "    xy = np.hstack([x.flatten()[:, None], y.flatten()[:, None],\n",
    "                    C11_array, C12_array, C22_array, G_array,\n",
    "                    epsilon1_array, epsilon2_array, e31_array, e33_array])\n",
    "\n",
    "\n",
    "    return xy"
   ]
  },
  {
   "cell_type": "code",
   "execution_count": null,
   "metadata": {
    "colab": {
     "base_uri": "https://localhost:8080/"
    },
    "executionInfo": {
     "elapsed": 5,
     "status": "ok",
     "timestamp": 1729373680602,
     "user": {
      "displayName": "Daniel Gonzalez",
      "userId": "03871375242627177945"
     },
     "user_tz": 360
    },
    "id": "ajBBCYh0uVzt",
    "outputId": "b3583606-3c04-4406-dd9a-fad9ddcb3012"
   },
   "outputs": [
    {
     "data": {
      "text/plain": [
       "(22500, 10)"
      ]
     },
     "execution_count": 158,
     "metadata": {},
     "output_type": "execute_result"
    }
   ],
   "source": [
    "x_collocation = get_collocation_points(150)\n",
    "x_collocation.shape"
   ]
  },
  {
   "cell_type": "code",
   "execution_count": null,
   "metadata": {
    "colab": {
     "base_uri": "https://localhost:8080/",
     "height": 291
    },
    "executionInfo": {
     "elapsed": 2338,
     "status": "ok",
     "timestamp": 1729373682937,
     "user": {
      "displayName": "Daniel Gonzalez",
      "userId": "03871375242627177945"
     },
     "user_tz": 360
    },
    "id": "RhDby5qJ2m7f",
    "outputId": "e8f14aa3-0d7b-497d-b6c8-2fcf2ecddc97"
   },
   "outputs": [
    {
     "data": {
      "image/png": "[encoded data removed]",
      "text/plain": [
       "<Figure size 800x300 with 2 Axes>"
      ]
     },
     "metadata": {},
     "output_type": "display_data"
    }
   ],
   "source": [
    "plt.figure(figsize=(8, 3))\n",
    "plt.scatter(x_collocation[:, 0], x_collocation[:,1], c=x_collocation[:, 9], cmap='jet')\n",
    "plt.colorbar()\n",
    "plt.show()"
   ]
  },
  {
   "cell_type": "code",
   "execution_count": null,
   "metadata": {
    "id": "2rMMzQyguVzt"
   },
   "outputs": [],
   "source": [
    "x_collocation_test = get_collocation_points(200)"
   ]
  },
  {
   "cell_type": "code",
   "execution_count": null,
   "metadata": {
    "colab": {
     "base_uri": "https://localhost:8080/",
     "height": 369
    },
    "executionInfo": {
     "elapsed": 400,
     "status": "ok",
     "timestamp": 1729373683334,
     "user": {
      "displayName": "Daniel Gonzalez",
      "userId": "03871375242627177945"
     },
     "user_tz": 360
    },
    "id": "USQ9rafQuVzt",
    "outputId": "ac086438-efe5-4783-e02c-de0c826a47ec"
   },
   "outputs": [
    {
     "name": "stderr",
     "output_type": "stream",
     "text": [
      "<ipython-input-161-f61e91e7ae18>:2: UserWarning: No data for colormapping provided via 'c'. Parameters 'cmap' will be ignored\n",
      "  plt.scatter(x_collocation[:, 0], x_collocation[:,1], cmap='jet')\n"
     ]
    },
    {
     "data": {
      "image/png": "[encoded data removed]",
      "text/plain": [
       "<Figure size 800x300 with 1 Axes>"
      ]
     },
     "metadata": {},
     "output_type": "display_data"
    }
   ],
   "source": [
    "plt.figure(figsize=(8, 3))\n",
    "plt.scatter(x_collocation[:, 0], x_collocation[:,1], cmap='jet')\n",
    "plt.xlabel('Coordenada x')\n",
    "plt.ylabel('Coordenada y')\n",
    "plt.title('Puntos de colocación para viga en voladizo paralela.')\n",
    "plt.show()"
   ]
  },
  {
   "cell_type": "code",
   "execution_count": null,
   "metadata": {
    "colab": {
     "base_uri": "https://localhost:8080/"
    },
    "executionInfo": {
     "elapsed": 5,
     "status": "ok",
     "timestamp": 1729373683334,
     "user": {
      "displayName": "Daniel Gonzalez",
      "userId": "03871375242627177945"
     },
     "user_tz": 360
    },
    "id": "8AlMkrLfBihG",
    "outputId": "d7b94065-8b8a-47b6-9af4-7751019985cc"
   },
   "outputs": [
    {
     "data": {
      "text/plain": [
       "(0.09974221428195579, 0.000994934155921857)"
      ]
     },
     "execution_count": 162,
     "metadata": {},
     "output_type": "execute_result"
    }
   ],
   "source": [
    "np.max(x_collocation[:, 0]), np.max(x_collocation[:, 1])"
   ]
  },
  {
   "cell_type": "code",
   "execution_count": null,
   "metadata": {
    "colab": {
     "base_uri": "https://localhost:8080/"
    },
    "executionInfo": {
     "elapsed": 4,
     "status": "ok",
     "timestamp": 1729373683334,
     "user": {
      "displayName": "Daniel Gonzalez",
      "userId": "03871375242627177945"
     },
     "user_tz": 360
    },
    "id": "GlBbJg3xF3TP",
    "outputId": "31fe6717-3926-4e47-96be-3933ee81bd94"
   },
   "outputs": [
    {
     "data": {
      "text/plain": [
       "(40000, 10)"
      ]
     },
     "execution_count": 163,
     "metadata": {},
     "output_type": "execute_result"
    }
   ],
   "source": [
    "x_collocation_test.shape"
   ]
  },
  {
   "cell_type": "code",
   "execution_count": null,
   "metadata": {
    "colab": {
     "base_uri": "https://localhost:8080/",
     "height": 368
    },
    "executionInfo": {
     "elapsed": 1684,
     "status": "ok",
     "timestamp": 1729373880946,
     "user": {
      "displayName": "Daniel Gonzalez",
      "userId": "03871375242627177945"
     },
     "user_tz": 360
    },
    "id": "-C2dbBYDuVzt",
    "outputId": "71021de9-2360-4445-f549-d676610c2e2e"
   },
   "outputs": [
    {
     "name": "stderr",
     "output_type": "stream",
     "text": [
      "<ipython-input-169-c74e32a59d98>:2: UserWarning: No data for colormapping provided via 'c'. Parameters 'cmap' will be ignored\n",
      "  plt.scatter(x_collocation_test[:, 0], x_collocation_test[:,1], cmap='jet')\n"
     ]
    },
    {
     "data": {
      "image/png": "[encoded data removed]",
      "text/plain": [
       "<Figure size 800x300 with 1 Axes>"
      ]
     },
     "metadata": {},
     "output_type": "display_data"
    }
   ],
   "source": [
    "plt.figure(figsize=(8, 3))\n",
    "plt.scatter(x_collocation_test[:, 0], x_collocation_test[:,1], cmap='jet')\n",
    "plt.xlabel('Coordenada x')\n",
    "plt.ylabel('Coordenada y')\n",
    "plt.title('Puntos de prueba para viga en voladizo paralela.')\n",
    "plt.show()"
   ]
  },
  {
   "cell_type": "code",
   "execution_count": null,
   "metadata": {
    "colab": {
     "base_uri": "https://localhost:8080/"
    },
    "executionInfo": {
     "elapsed": 4,
     "status": "ok",
     "timestamp": 1729373684002,
     "user": {
      "displayName": "Daniel Gonzalez",
      "userId": "03871375242627177945"
     },
     "user_tz": 360
    },
    "id": "J7rGRs90uVzu",
    "outputId": "74fbadbe-53d7-4435-c782-f878d0a4fa12"
   },
   "outputs": [
    {
     "data": {
      "text/plain": [
       "((300, 2), (22500, 10))"
      ]
     },
     "execution_count": 165,
     "metadata": {},
     "output_type": "execute_result"
    }
   ],
   "source": [
    "x_electrical_bc.shape, x_collocation.shape"
   ]
  },
  {
   "cell_type": "code",
   "execution_count": null,
   "metadata": {
    "id": "FAhlWHb2uuGt"
   },
   "outputs": [],
   "source": [
    "root = '/content/drive/MyDrive/PINN_piezo/'"
   ]
  },
  {
   "cell_type": "code",
   "execution_count": null,
   "metadata": {
    "id": "5uPap7IhuVzu"
   },
   "outputs": [],
   "source": [
    "# Descomentar para guardarq los datos\n",
    "# np.save(root + 'x_electrical_bc.npy', x_electrical_bc)\n",
    "# np.save(root + 'y_electrical_bc.npy', y_electrical_bc)\n",
    "# np.save(root + 'x_mechanical_bc.npy', x_mechanical_bc)\n",
    "# np.save(root + 'y_mechanical_bc.npy', y_mechanical_bc)\n",
    "# np.save(root + 'x_right.npy', x_right)\n",
    "# np.save(root + 'x_collocation_non_normalized_m1_c.npy', x_collocation)\n",
    "# np.save(root + 'x_collocation_test_non_normalized_m1_c.npy', x_collocation_test)\n",
    "# np.save(root + 'xy_top_non_normalized_m1_c.npy', xy_top)\n",
    "# np.save(root + 'xy_bottom_non_normalized_m1_c.npy', xy_bottom)\n",
    "# np.save(root + 'xy_left_non_normalized_m1_c.npy', xy_left)\n",
    "# np.save(root + 'xy_right_non_normalized_m1_c.npy', xy_right)"
   ]
  }
 ],
 "metadata": {
  "colab": {
   "provenance": []
  },
  "kernelspec": {
   "display_name": "Python 3",
   "language": "python",
   "name": "python3"
  },
  "language_info": {
   "codemirror_mode": {
    "name": "ipython",
    "version": 3
   },
   "file_extension": ".py",
   "mimetype": "text/x-python",
   "name": "python",
   "nbconvert_exporter": "python",
   "pygments_lexer": "ipython3",
   "version": "3.10.11"
  }
 },
 "nbformat": 4,
 "nbformat_minor": 0
}
